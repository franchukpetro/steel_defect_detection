{
  "nbformat": 4,
  "nbformat_minor": 0,
  "metadata": {
    "colab": {
      "name": "defect_classification.ipynb",
      "provenance": [],
      "collapsed_sections": [
        "HoMvh4dYSnG9",
        "3pvljA-VQhU5"
      ]
    },
    "kernelspec": {
      "name": "python3",
      "display_name": "Python 3"
    },
    "accelerator": "GPU"
  },
  "cells": [
    {
      "cell_type": "code",
      "metadata": {
        "id": "YsPS617IqRT5",
        "colab_type": "code",
        "colab": {}
      },
      "source": [
        "import pandas as pd\n",
        "import numpy as np"
      ],
      "execution_count": 0,
      "outputs": []
    },
    {
      "cell_type": "markdown",
      "metadata": {
        "id": "HoMvh4dYSnG9",
        "colab_type": "text"
      },
      "source": [
        "# **Downloading data from Google Drive**"
      ]
    },
    {
      "cell_type": "code",
      "metadata": {
        "id": "_8MH2nPFrbXC",
        "colab_type": "code",
        "colab": {}
      },
      "source": [
        "!pip install -U -q PyDrive\n",
        "import os\n",
        "from pydrive.auth import GoogleAuth\n",
        "from pydrive.drive import GoogleDrive\n",
        "from google.colab import auth\n",
        "from oauth2client.client import GoogleCredentials\n",
        "import zipfile\n",
        "from google.colab import drive\n",
        "\n",
        "# 1. Authenticate and create the PyDrive client.\n",
        "auth.authenticate_user()\n",
        "gauth = GoogleAuth()\n",
        "gauth.credentials = GoogleCredentials.get_application_default()\n",
        "drive = GoogleDrive(gauth)\n",
        "\n",
        "# choose a local (colab) directory to store the data.\n",
        "local_download_path = os.path.expanduser('content/data')\n",
        "try:\n",
        "  os.makedirs(local_download_path)\n",
        "except: pass\n",
        "\n",
        "# 2. Auto-iterate using the query syntax\n",
        "#    https://developers.google.com/drive/v2/web/search-parameters\n",
        "# list of files in Google Drive folder\n",
        "file_list = drive.ListFile(\n",
        "    {'q': \"'1MsgfnmWPV-Nod0s1ZejYfsvbIwRMKZg_' in parents\"}).GetList()\n",
        "\n",
        "# find data in .zip format and save it\n",
        "for f in file_list:\n",
        "  # read csv file with predictions from previous layer (probability for each \n",
        "  #image whether there are any defect on it)\n",
        "  if f['title'] == \"defect_present_probabilities.csv\":\n",
        "    fname = os.path.join(local_download_path, f['title'])\n",
        "    f_ = drive.CreateFile({'id': f['id']})\n",
        "    f_.GetContentFile(fname)\n",
        "\n",
        "  if f['title'] == \"severstal-steel-defect-detection.zip\":\n",
        "    zipname = os.path.join(local_download_path, f['title'])\n",
        "    f_ = drive.CreateFile({'id': f['id']})\n",
        "    f_.GetContentFile(zipname)\n",
        "\n",
        "    # extract files from zip to \"extracted/\" directory, this directory will be \n",
        "    # used for further data modelling\n",
        "    zip_ref = zipfile.ZipFile(zipname, 'r')\n",
        "    zip_ref.extractall(os.path.join(local_download_path, \"extracted\"))\n",
        "    zip_ref.close()\n"
      ],
      "execution_count": 0,
      "outputs": []
    },
    {
      "cell_type": "markdown",
      "metadata": {
        "id": "umkPDw2NQoyw",
        "colab_type": "text"
      },
      "source": [
        "Read labels and define working folders"
      ]
    },
    {
      "cell_type": "code",
      "metadata": {
        "id": "BWGQB1vEr4fB",
        "colab_type": "code",
        "colab": {}
      },
      "source": [
        "probabilities = pd.read_csv(fname)"
      ],
      "execution_count": 0,
      "outputs": []
    },
    {
      "cell_type": "code",
      "metadata": {
        "id": "bBScB4-BrdsH",
        "colab_type": "code",
        "colab": {}
      },
      "source": [
        "working_dir = os.path.join(local_download_path, \"extracted\")\n",
        "\n",
        "# defining working folders and labels\n",
        "train_images_folder = os.path.join(working_dir, \"train_images\")\n",
        "train_labels_file = os.path.join(working_dir, \"train.csv\")\n",
        "\n",
        "test_images_folder = os.path.join(working_dir, \"test_images\")\n",
        "test_labels_file = os.path.join(working_dir, \"sample_submission.csv\")"
      ],
      "execution_count": 0,
      "outputs": []
    },
    {
      "cell_type": "code",
      "metadata": {
        "id": "LlF4iG5DF9iZ",
        "colab_type": "code",
        "colab": {}
      },
      "source": [
        "train_labels = pd.read_csv(train_labels_file)\n",
        "test_labels = pd.read_csv(test_labels_file)"
      ],
      "execution_count": 0,
      "outputs": []
    },
    {
      "cell_type": "markdown",
      "metadata": {
        "id": "3pvljA-VQhU5",
        "colab_type": "text"
      },
      "source": [
        "# **Data preprocessing**"
      ]
    },
    {
      "cell_type": "markdown",
      "metadata": {
        "id": "VLvWZWZWQxNo",
        "colab_type": "text"
      },
      "source": [
        "**Sorting images by probability of defecr presence - if probability is greater than 0.5 it means there is some defect on image. Future predictions will be done only on defective images**"
      ]
    },
    {
      "cell_type": "code",
      "metadata": {
        "id": "hE15aYjz26PR",
        "colab_type": "code",
        "colab": {}
      },
      "source": [
        "defective_indexes = probabilities[probabilities.Probability > 0.5]['ImageId'].to_list()\n",
        "defective_test_labels = pd.DataFrame()\n",
        "for index, row in test_labels.iterrows():\n",
        "  if row.ImageId in defective_indexes:\n",
        "    defective_test_labels =  defective_test_labels.append(row, ignore_index=True)"
      ],
      "execution_count": 0,
      "outputs": []
    },
    {
      "cell_type": "code",
      "metadata": {
        "id": "xvcRIbJH5sRS",
        "colab_type": "code",
        "outputId": "49bb51c8-4ee9-495b-bc18-3c3f05a4457e",
        "colab": {
          "base_uri": "https://localhost:8080/",
          "height": 424
        }
      },
      "source": [
        "train_labels"
      ],
      "execution_count": 57,
      "outputs": [
        {
          "output_type": "execute_result",
          "data": {
            "text/html": [
              "<div>\n",
              "<style scoped>\n",
              "    .dataframe tbody tr th:only-of-type {\n",
              "        vertical-align: middle;\n",
              "    }\n",
              "\n",
              "    .dataframe tbody tr th {\n",
              "        vertical-align: top;\n",
              "    }\n",
              "\n",
              "    .dataframe thead th {\n",
              "        text-align: right;\n",
              "    }\n",
              "</style>\n",
              "<table border=\"1\" class=\"dataframe\">\n",
              "  <thead>\n",
              "    <tr style=\"text-align: right;\">\n",
              "      <th></th>\n",
              "      <th>ImageId</th>\n",
              "      <th>ClassId</th>\n",
              "      <th>EncodedPixels</th>\n",
              "    </tr>\n",
              "  </thead>\n",
              "  <tbody>\n",
              "    <tr>\n",
              "      <th>0</th>\n",
              "      <td>0002cc93b.jpg</td>\n",
              "      <td>1</td>\n",
              "      <td>29102 12 29346 24 29602 24 29858 24 30114 24 3...</td>\n",
              "    </tr>\n",
              "    <tr>\n",
              "      <th>1</th>\n",
              "      <td>0007a71bf.jpg</td>\n",
              "      <td>3</td>\n",
              "      <td>18661 28 18863 82 19091 110 19347 110 19603 11...</td>\n",
              "    </tr>\n",
              "    <tr>\n",
              "      <th>2</th>\n",
              "      <td>000a4bcdd.jpg</td>\n",
              "      <td>1</td>\n",
              "      <td>37607 3 37858 8 38108 14 38359 20 38610 25 388...</td>\n",
              "    </tr>\n",
              "    <tr>\n",
              "      <th>3</th>\n",
              "      <td>000f6bf48.jpg</td>\n",
              "      <td>4</td>\n",
              "      <td>131973 1 132228 4 132483 6 132738 8 132993 11 ...</td>\n",
              "    </tr>\n",
              "    <tr>\n",
              "      <th>4</th>\n",
              "      <td>0014fce06.jpg</td>\n",
              "      <td>3</td>\n",
              "      <td>229501 11 229741 33 229981 55 230221 77 230468...</td>\n",
              "    </tr>\n",
              "    <tr>\n",
              "      <th>...</th>\n",
              "      <td>...</td>\n",
              "      <td>...</td>\n",
              "      <td>...</td>\n",
              "    </tr>\n",
              "    <tr>\n",
              "      <th>7090</th>\n",
              "      <td>ffcf72ecf.jpg</td>\n",
              "      <td>3</td>\n",
              "      <td>121911 34 122167 101 122422 169 122678 203 122...</td>\n",
              "    </tr>\n",
              "    <tr>\n",
              "      <th>7091</th>\n",
              "      <td>fff02e9c5.jpg</td>\n",
              "      <td>3</td>\n",
              "      <td>207523 3 207777 9 208030 15 208283 22 208537 2...</td>\n",
              "    </tr>\n",
              "    <tr>\n",
              "      <th>7092</th>\n",
              "      <td>fffe98443.jpg</td>\n",
              "      <td>3</td>\n",
              "      <td>105929 5 106177 14 106424 24 106672 33 106923 ...</td>\n",
              "    </tr>\n",
              "    <tr>\n",
              "      <th>7093</th>\n",
              "      <td>ffff4eaa8.jpg</td>\n",
              "      <td>3</td>\n",
              "      <td>16899 7 17155 20 17411 34 17667 47 17923 60 18...</td>\n",
              "    </tr>\n",
              "    <tr>\n",
              "      <th>7094</th>\n",
              "      <td>ffffd67df.jpg</td>\n",
              "      <td>3</td>\n",
              "      <td>30931 43 31103 127 31275 211 31489 253 31745 2...</td>\n",
              "    </tr>\n",
              "  </tbody>\n",
              "</table>\n",
              "<p>7095 rows × 3 columns</p>\n",
              "</div>"
            ],
            "text/plain": [
              "            ImageId  ClassId                                      EncodedPixels\n",
              "0     0002cc93b.jpg        1  29102 12 29346 24 29602 24 29858 24 30114 24 3...\n",
              "1     0007a71bf.jpg        3  18661 28 18863 82 19091 110 19347 110 19603 11...\n",
              "2     000a4bcdd.jpg        1  37607 3 37858 8 38108 14 38359 20 38610 25 388...\n",
              "3     000f6bf48.jpg        4  131973 1 132228 4 132483 6 132738 8 132993 11 ...\n",
              "4     0014fce06.jpg        3  229501 11 229741 33 229981 55 230221 77 230468...\n",
              "...             ...      ...                                                ...\n",
              "7090  ffcf72ecf.jpg        3  121911 34 122167 101 122422 169 122678 203 122...\n",
              "7091  fff02e9c5.jpg        3  207523 3 207777 9 208030 15 208283 22 208537 2...\n",
              "7092  fffe98443.jpg        3  105929 5 106177 14 106424 24 106672 33 106923 ...\n",
              "7093  ffff4eaa8.jpg        3  16899 7 17155 20 17411 34 17667 47 17923 60 18...\n",
              "7094  ffffd67df.jpg        3  30931 43 31103 127 31275 211 31489 253 31745 2...\n",
              "\n",
              "[7095 rows x 3 columns]"
            ]
          },
          "metadata": {
            "tags": []
          },
          "execution_count": 57
        }
      ]
    },
    {
      "cell_type": "markdown",
      "metadata": {
        "id": "ONjOnT__RyrP",
        "colab_type": "text"
      },
      "source": [
        "Represent ClassId column as 4 different binary columns for corresponding defect class. It was done for model, as input should be 4 binaries, one for each class."
      ]
    },
    {
      "cell_type": "code",
      "metadata": {
        "id": "QWCZ0e1r8Om6",
        "colab_type": "code",
        "colab": {}
      },
      "source": [
        "train_classes = pd.get_dummies(train_labels.ClassId, prefix='Class')\n",
        "train_labels = pd.concat([train_labels, train_classes], axis=1)\n",
        "train_labels.drop(['ClassId'], axis=1, inplace=True)"
      ],
      "execution_count": 0,
      "outputs": []
    },
    {
      "cell_type": "code",
      "metadata": {
        "id": "lz2tjQzd-F6Z",
        "colab_type": "code",
        "colab": {
          "base_uri": "https://localhost:8080/",
          "height": 424
        },
        "outputId": "8e3582da-b639-4e89-8d2f-0818e3c4c25c"
      },
      "source": [
        "train_labels"
      ],
      "execution_count": 59,
      "outputs": [
        {
          "output_type": "execute_result",
          "data": {
            "text/html": [
              "<div>\n",
              "<style scoped>\n",
              "    .dataframe tbody tr th:only-of-type {\n",
              "        vertical-align: middle;\n",
              "    }\n",
              "\n",
              "    .dataframe tbody tr th {\n",
              "        vertical-align: top;\n",
              "    }\n",
              "\n",
              "    .dataframe thead th {\n",
              "        text-align: right;\n",
              "    }\n",
              "</style>\n",
              "<table border=\"1\" class=\"dataframe\">\n",
              "  <thead>\n",
              "    <tr style=\"text-align: right;\">\n",
              "      <th></th>\n",
              "      <th>ImageId</th>\n",
              "      <th>EncodedPixels</th>\n",
              "      <th>Class_1</th>\n",
              "      <th>Class_2</th>\n",
              "      <th>Class_3</th>\n",
              "      <th>Class_4</th>\n",
              "    </tr>\n",
              "  </thead>\n",
              "  <tbody>\n",
              "    <tr>\n",
              "      <th>0</th>\n",
              "      <td>0002cc93b.jpg</td>\n",
              "      <td>29102 12 29346 24 29602 24 29858 24 30114 24 3...</td>\n",
              "      <td>1</td>\n",
              "      <td>0</td>\n",
              "      <td>0</td>\n",
              "      <td>0</td>\n",
              "    </tr>\n",
              "    <tr>\n",
              "      <th>1</th>\n",
              "      <td>0007a71bf.jpg</td>\n",
              "      <td>18661 28 18863 82 19091 110 19347 110 19603 11...</td>\n",
              "      <td>0</td>\n",
              "      <td>0</td>\n",
              "      <td>1</td>\n",
              "      <td>0</td>\n",
              "    </tr>\n",
              "    <tr>\n",
              "      <th>2</th>\n",
              "      <td>000a4bcdd.jpg</td>\n",
              "      <td>37607 3 37858 8 38108 14 38359 20 38610 25 388...</td>\n",
              "      <td>1</td>\n",
              "      <td>0</td>\n",
              "      <td>0</td>\n",
              "      <td>0</td>\n",
              "    </tr>\n",
              "    <tr>\n",
              "      <th>3</th>\n",
              "      <td>000f6bf48.jpg</td>\n",
              "      <td>131973 1 132228 4 132483 6 132738 8 132993 11 ...</td>\n",
              "      <td>0</td>\n",
              "      <td>0</td>\n",
              "      <td>0</td>\n",
              "      <td>1</td>\n",
              "    </tr>\n",
              "    <tr>\n",
              "      <th>4</th>\n",
              "      <td>0014fce06.jpg</td>\n",
              "      <td>229501 11 229741 33 229981 55 230221 77 230468...</td>\n",
              "      <td>0</td>\n",
              "      <td>0</td>\n",
              "      <td>1</td>\n",
              "      <td>0</td>\n",
              "    </tr>\n",
              "    <tr>\n",
              "      <th>...</th>\n",
              "      <td>...</td>\n",
              "      <td>...</td>\n",
              "      <td>...</td>\n",
              "      <td>...</td>\n",
              "      <td>...</td>\n",
              "      <td>...</td>\n",
              "    </tr>\n",
              "    <tr>\n",
              "      <th>7090</th>\n",
              "      <td>ffcf72ecf.jpg</td>\n",
              "      <td>121911 34 122167 101 122422 169 122678 203 122...</td>\n",
              "      <td>0</td>\n",
              "      <td>0</td>\n",
              "      <td>1</td>\n",
              "      <td>0</td>\n",
              "    </tr>\n",
              "    <tr>\n",
              "      <th>7091</th>\n",
              "      <td>fff02e9c5.jpg</td>\n",
              "      <td>207523 3 207777 9 208030 15 208283 22 208537 2...</td>\n",
              "      <td>0</td>\n",
              "      <td>0</td>\n",
              "      <td>1</td>\n",
              "      <td>0</td>\n",
              "    </tr>\n",
              "    <tr>\n",
              "      <th>7092</th>\n",
              "      <td>fffe98443.jpg</td>\n",
              "      <td>105929 5 106177 14 106424 24 106672 33 106923 ...</td>\n",
              "      <td>0</td>\n",
              "      <td>0</td>\n",
              "      <td>1</td>\n",
              "      <td>0</td>\n",
              "    </tr>\n",
              "    <tr>\n",
              "      <th>7093</th>\n",
              "      <td>ffff4eaa8.jpg</td>\n",
              "      <td>16899 7 17155 20 17411 34 17667 47 17923 60 18...</td>\n",
              "      <td>0</td>\n",
              "      <td>0</td>\n",
              "      <td>1</td>\n",
              "      <td>0</td>\n",
              "    </tr>\n",
              "    <tr>\n",
              "      <th>7094</th>\n",
              "      <td>ffffd67df.jpg</td>\n",
              "      <td>30931 43 31103 127 31275 211 31489 253 31745 2...</td>\n",
              "      <td>0</td>\n",
              "      <td>0</td>\n",
              "      <td>1</td>\n",
              "      <td>0</td>\n",
              "    </tr>\n",
              "  </tbody>\n",
              "</table>\n",
              "<p>7095 rows × 6 columns</p>\n",
              "</div>"
            ],
            "text/plain": [
              "            ImageId  ... Class_4\n",
              "0     0002cc93b.jpg  ...       0\n",
              "1     0007a71bf.jpg  ...       0\n",
              "2     000a4bcdd.jpg  ...       0\n",
              "3     000f6bf48.jpg  ...       1\n",
              "4     0014fce06.jpg  ...       0\n",
              "...             ...  ...     ...\n",
              "7090  ffcf72ecf.jpg  ...       0\n",
              "7091  fff02e9c5.jpg  ...       0\n",
              "7092  fffe98443.jpg  ...       0\n",
              "7093  ffff4eaa8.jpg  ...       0\n",
              "7094  ffffd67df.jpg  ...       0\n",
              "\n",
              "[7095 rows x 6 columns]"
            ]
          },
          "metadata": {
            "tags": []
          },
          "execution_count": 59
        }
      ]
    },
    {
      "cell_type": "markdown",
      "metadata": {
        "id": "cHu2tjOCTIa-",
        "colab_type": "text"
      },
      "source": [
        "Create data flow using ImageDataGenerator, see example here: https://medium.com/@vijayabhaskar96/tutorial-on-keras-flow-from-dataframe-1fd4493d237c"
      ]
    },
    {
      "cell_type": "code",
      "metadata": {
        "id": "Kum4Y5nWF-HW",
        "colab_type": "code",
        "colab": {}
      },
      "source": [
        "from keras_preprocessing.image import ImageDataGenerator\n",
        "\n",
        "def create_datagen():\n",
        "    return ImageDataGenerator(\n",
        "        fill_mode='constant',\n",
        "        cval=0.,\n",
        "        rotation_range=10,\n",
        "        height_shift_range=0.1,\n",
        "        width_shift_range=0.1,\n",
        "        vertical_flip=True,\n",
        "        rescale=1./255,\n",
        "        zoom_range=0.1,\n",
        "        horizontal_flip=True,\n",
        "        validation_split=0.15\n",
        "    )\n",
        "\n",
        "def create_test_gen():\n",
        "    return ImageDataGenerator(rescale=1/255.).flow_from_dataframe(\n",
        "        dataframe=defective_test_labels,\n",
        "        directory=test_images_folder,\n",
        "        x_col='ImageId',\n",
        "        class_mode=None,\n",
        "        target_size=(256, 512),\n",
        "        batch_size=1,\n",
        "        shuffle=False\n",
        "    )\n",
        "target_columns = ['Class_1', 'Class_2', 'Class_3', 'Class_4']\n",
        "def create_flow(datagen, subset_name):\n",
        "    return datagen.flow_from_dataframe(\n",
        "        dataframe=train_labels,\n",
        "        directory=train_images_folder,\n",
        "        x_col='ImageId',\n",
        "        y_col=target_columns,\n",
        "        class_mode='other',\n",
        "        target_size=(256, 512),\n",
        "        batch_size=32,\n",
        "        subset=subset_name\n",
        "    )"
      ],
      "execution_count": 0,
      "outputs": []
    },
    {
      "cell_type": "code",
      "metadata": {
        "id": "WWtjCkFQKmGd",
        "colab_type": "code",
        "outputId": "92331ad6-d99f-4fb8-cdf7-3222876d0b8d",
        "colab": {
          "base_uri": "https://localhost:8080/",
          "height": 69
        }
      },
      "source": [
        "data_generator = create_datagen()\n",
        "train_gen = create_flow(data_generator, 'training')\n",
        "val_gen = create_flow(data_generator, 'validation')\n",
        "test_gen = create_test_gen()"
      ],
      "execution_count": 61,
      "outputs": [
        {
          "output_type": "stream",
          "text": [
            "Found 6031 validated image filenames.\n",
            "Found 1064 validated image filenames.\n",
            "Found 4185 validated image filenames.\n"
          ],
          "name": "stdout"
        }
      ]
    },
    {
      "cell_type": "markdown",
      "metadata": {
        "id": "MgGGwEiXTND3",
        "colab_type": "text"
      },
      "source": [
        "# **Building and fitting model**"
      ]
    },
    {
      "cell_type": "code",
      "metadata": {
        "id": "6u6iBjB6wlMk",
        "colab_type": "code",
        "colab": {
          "base_uri": "https://localhost:8080/",
          "height": 81
        },
        "outputId": "4dfb619d-6d21-4e19-ec0f-1605edc9a051"
      },
      "source": [
        "from keras.applications import InceptionResNetV2\n",
        "from keras.models import Sequential\n",
        "from keras.layers.convolutional import Conv2D\n",
        "from keras.layers.core import Dense, Dropout, Activation, Flatten \n",
        "from keras.layers.pooling import  MaxPooling2D, GlobalAveragePooling2D\n",
        "from keras.layers import BatchNormalization\n",
        "from keras import optimizers\n",
        "from keras.models import Model"
      ],
      "execution_count": 45,
      "outputs": [
        {
          "output_type": "stream",
          "text": [
            "Using TensorFlow backend.\n"
          ],
          "name": "stderr"
        },
        {
          "output_type": "display_data",
          "data": {
            "text/html": [
              "<p style=\"color: red;\">\n",
              "The default version of TensorFlow in Colab will soon switch to TensorFlow 2.x.<br>\n",
              "We recommend you <a href=\"https://www.tensorflow.org/guide/migrate\" target=\"_blank\">upgrade</a> now \n",
              "or ensure your notebook will continue to use TensorFlow 1.x via the <code>%tensorflow_version 1.x</code> magic:\n",
              "<a href=\"https://colab.research.google.com/notebooks/tensorflow_version.ipynb\" target=\"_blank\">more info</a>.</p>\n"
            ],
            "text/plain": [
              "<IPython.core.display.HTML object>"
            ]
          },
          "metadata": {
            "tags": []
          }
        }
      ]
    },
    {
      "cell_type": "code",
      "metadata": {
        "id": "Yus3Mj9cx7i9",
        "colab_type": "code",
        "colab": {
          "base_uri": "https://localhost:8080/",
          "height": 330
        },
        "outputId": "ea14cdd5-28ba-481b-e98b-52dc9fa91212"
      },
      "source": [
        "model = InceptionResNetV2(weights='imagenet', input_shape=(256,512,3), include_top=False)\n",
        "#model.load_weights('/kaggle/input/inceptionresnetv2/inception_resent_v2_weights_tf_dim_ordering_tf_kernels_notop.h5')\n",
        "model.trainable=False\n",
        "\n",
        "x=model.output\n",
        "x=GlobalAveragePooling2D()(x)\n",
        "x=Dense(128,activation='relu')(x)\n",
        "x=Dense(64,activation='relu')(x) \n",
        "out=Dense(4,activation='sigmoid')(x) #final layer binary classifier\n",
        "\n",
        "model_binary=Model(inputs=model.input,outputs=out) "
      ],
      "execution_count": 47,
      "outputs": [
        {
          "output_type": "stream",
          "text": [
            "WARNING:tensorflow:From /usr/local/lib/python3.6/dist-packages/keras/backend/tensorflow_backend.py:2041: The name tf.nn.fused_batch_norm is deprecated. Please use tf.compat.v1.nn.fused_batch_norm instead.\n",
            "\n"
          ],
          "name": "stdout"
        },
        {
          "output_type": "stream",
          "text": [
            "WARNING:tensorflow:From /usr/local/lib/python3.6/dist-packages/keras/backend/tensorflow_backend.py:2041: The name tf.nn.fused_batch_norm is deprecated. Please use tf.compat.v1.nn.fused_batch_norm instead.\n",
            "\n"
          ],
          "name": "stderr"
        },
        {
          "output_type": "stream",
          "text": [
            "WARNING:tensorflow:From /usr/local/lib/python3.6/dist-packages/keras/backend/tensorflow_backend.py:148: The name tf.placeholder_with_default is deprecated. Please use tf.compat.v1.placeholder_with_default instead.\n",
            "\n"
          ],
          "name": "stdout"
        },
        {
          "output_type": "stream",
          "text": [
            "WARNING:tensorflow:From /usr/local/lib/python3.6/dist-packages/keras/backend/tensorflow_backend.py:148: The name tf.placeholder_with_default is deprecated. Please use tf.compat.v1.placeholder_with_default instead.\n",
            "\n"
          ],
          "name": "stderr"
        },
        {
          "output_type": "stream",
          "text": [
            "WARNING:tensorflow:From /usr/local/lib/python3.6/dist-packages/keras/backend/tensorflow_backend.py:4267: The name tf.nn.max_pool is deprecated. Please use tf.nn.max_pool2d instead.\n",
            "\n"
          ],
          "name": "stdout"
        },
        {
          "output_type": "stream",
          "text": [
            "WARNING:tensorflow:From /usr/local/lib/python3.6/dist-packages/keras/backend/tensorflow_backend.py:4267: The name tf.nn.max_pool is deprecated. Please use tf.nn.max_pool2d instead.\n",
            "\n"
          ],
          "name": "stderr"
        },
        {
          "output_type": "stream",
          "text": [
            "WARNING:tensorflow:From /usr/local/lib/python3.6/dist-packages/keras/backend/tensorflow_backend.py:4271: The name tf.nn.avg_pool is deprecated. Please use tf.nn.avg_pool2d instead.\n",
            "\n"
          ],
          "name": "stdout"
        },
        {
          "output_type": "stream",
          "text": [
            "WARNING:tensorflow:From /usr/local/lib/python3.6/dist-packages/keras/backend/tensorflow_backend.py:4271: The name tf.nn.avg_pool is deprecated. Please use tf.nn.avg_pool2d instead.\n",
            "\n"
          ],
          "name": "stderr"
        },
        {
          "output_type": "stream",
          "text": [
            "Downloading data from https://github.com/fchollet/deep-learning-models/releases/download/v0.7/inception_resnet_v2_weights_tf_dim_ordering_tf_kernels_notop.h5\n",
            "219062272/219055592 [==============================] - 3s 0us/step\n"
          ],
          "name": "stdout"
        }
      ]
    },
    {
      "cell_type": "code",
      "metadata": {
        "id": "Eh7RGjCUHZBY",
        "colab_type": "code",
        "outputId": "b1b3056f-ac44-4384-92bf-e22a89ee93b7",
        "colab": {
          "base_uri": "https://localhost:8080/",
          "height": 260
        }
      },
      "source": [
        "model_binary.compile(\n",
        "        loss='binary_crossentropy',\n",
        "        optimizer='adam',\n",
        "        metrics=['accuracy']\n",
        "    )"
      ],
      "execution_count": 48,
      "outputs": [
        {
          "output_type": "stream",
          "text": [
            "WARNING:tensorflow:From /usr/local/lib/python3.6/dist-packages/keras/optimizers.py:793: The name tf.train.Optimizer is deprecated. Please use tf.compat.v1.train.Optimizer instead.\n",
            "\n"
          ],
          "name": "stdout"
        },
        {
          "output_type": "stream",
          "text": [
            "WARNING:tensorflow:From /usr/local/lib/python3.6/dist-packages/keras/optimizers.py:793: The name tf.train.Optimizer is deprecated. Please use tf.compat.v1.train.Optimizer instead.\n",
            "\n"
          ],
          "name": "stderr"
        },
        {
          "output_type": "stream",
          "text": [
            "WARNING:tensorflow:From /usr/local/lib/python3.6/dist-packages/keras/backend/tensorflow_backend.py:3657: The name tf.log is deprecated. Please use tf.math.log instead.\n",
            "\n"
          ],
          "name": "stdout"
        },
        {
          "output_type": "stream",
          "text": [
            "WARNING:tensorflow:From /usr/local/lib/python3.6/dist-packages/keras/backend/tensorflow_backend.py:3657: The name tf.log is deprecated. Please use tf.math.log instead.\n",
            "\n"
          ],
          "name": "stderr"
        },
        {
          "output_type": "stream",
          "text": [
            "WARNING:tensorflow:From /usr/local/lib/python3.6/dist-packages/tensorflow_core/python/ops/nn_impl.py:183: where (from tensorflow.python.ops.array_ops) is deprecated and will be removed in a future version.\n",
            "Instructions for updating:\n",
            "Use tf.where in 2.0, which has the same broadcast rule as np.where\n"
          ],
          "name": "stdout"
        },
        {
          "output_type": "stream",
          "text": [
            "WARNING:tensorflow:From /usr/local/lib/python3.6/dist-packages/tensorflow_core/python/ops/nn_impl.py:183: where (from tensorflow.python.ops.array_ops) is deprecated and will be removed in a future version.\n",
            "Instructions for updating:\n",
            "Use tf.where in 2.0, which has the same broadcast rule as np.where\n"
          ],
          "name": "stderr"
        }
      ]
    },
    {
      "cell_type": "code",
      "metadata": {
        "id": "4N06dmKnHZ5n",
        "colab_type": "code",
        "outputId": "1d84559e-e84e-4d12-f4e4-f34aafb2915a",
        "colab": {
          "base_uri": "https://localhost:8080/",
          "height": 555
        }
      },
      "source": [
        "STEP_SIZE_TRAIN=train_gen.n//train_gen.batch_size\n",
        "STEP_SIZE_VALID=val_gen.n//val_gen.batch_size\n",
        "STEP_SIZE_TEST=test_gen.n//test_gen.batch_size\n",
        "\n",
        "model_binary.fit_generator(generator=train_gen,\n",
        "                    steps_per_epoch=STEP_SIZE_TRAIN,\n",
        "                    validation_data=val_gen,\n",
        "                    validation_steps=STEP_SIZE_VALID,\n",
        "                    epochs=15\n",
        "                    )"
      ],
      "execution_count": 62,
      "outputs": [
        {
          "output_type": "stream",
          "text": [
            "Epoch 1/15\n",
            "188/188 [==============================] - 434s 2s/step - loss: 0.2581 - acc: 0.8872 - val_loss: 0.4076 - val_acc: 0.8741\n",
            "Epoch 2/15\n",
            "188/188 [==============================] - 368s 2s/step - loss: 0.1999 - acc: 0.9129 - val_loss: 0.3493 - val_acc: 0.8384\n",
            "Epoch 3/15\n",
            "188/188 [==============================] - 365s 2s/step - loss: 0.1940 - acc: 0.9157 - val_loss: 0.2818 - val_acc: 0.8794\n",
            "Epoch 4/15\n",
            "188/188 [==============================] - 359s 2s/step - loss: 0.1775 - acc: 0.9222 - val_loss: 0.2492 - val_acc: 0.8895\n",
            "Epoch 5/15\n",
            "188/188 [==============================] - 355s 2s/step - loss: 0.1741 - acc: 0.9256 - val_loss: 0.2267 - val_acc: 0.8987\n",
            "Epoch 6/15\n",
            "188/188 [==============================] - 372s 2s/step - loss: 0.1647 - acc: 0.9284 - val_loss: 0.3118 - val_acc: 0.8992\n",
            "Epoch 7/15\n",
            "188/188 [==============================] - 367s 2s/step - loss: 0.1630 - acc: 0.9301 - val_loss: 0.1840 - val_acc: 0.9203\n",
            "Epoch 8/15\n",
            "188/188 [==============================] - 368s 2s/step - loss: 0.1583 - acc: 0.9333 - val_loss: 0.2254 - val_acc: 0.9050\n",
            "Epoch 9/15\n",
            "188/188 [==============================] - 369s 2s/step - loss: 0.1565 - acc: 0.9329 - val_loss: 0.1531 - val_acc: 0.9331\n",
            "Epoch 10/15\n",
            "188/188 [==============================] - 366s 2s/step - loss: 0.1500 - acc: 0.9361 - val_loss: 0.1625 - val_acc: 0.9317\n",
            "Epoch 11/15\n",
            "188/188 [==============================] - 372s 2s/step - loss: 0.1472 - acc: 0.9372 - val_loss: 0.2807 - val_acc: 0.8874\n",
            "Epoch 12/15\n",
            "188/188 [==============================] - 369s 2s/step - loss: 0.1490 - acc: 0.9375 - val_loss: 0.1709 - val_acc: 0.9208\n",
            "Epoch 13/15\n",
            "188/188 [==============================] - 364s 2s/step - loss: 0.1454 - acc: 0.9361 - val_loss: 0.1695 - val_acc: 0.9319\n",
            "Epoch 14/15\n",
            "188/188 [==============================] - 367s 2s/step - loss: 0.1359 - acc: 0.9388 - val_loss: 0.2599 - val_acc: 0.9031\n",
            "Epoch 15/15\n",
            "188/188 [==============================] - 361s 2s/step - loss: 0.1358 - acc: 0.9416 - val_loss: 0.1988 - val_acc: 0.9327\n"
          ],
          "name": "stdout"
        },
        {
          "output_type": "execute_result",
          "data": {
            "text/plain": [
              "<keras.callbacks.History at 0x7fc5bb8ee7b8>"
            ]
          },
          "metadata": {
            "tags": []
          },
          "execution_count": 62
        }
      ]
    },
    {
      "cell_type": "code",
      "metadata": {
        "id": "zbfK9YvsVFEw",
        "colab_type": "code",
        "colab": {
          "base_uri": "https://localhost:8080/",
          "height": 34
        },
        "outputId": "130cd875-285b-4b60-deb4-97986a2e16eb"
      },
      "source": [
        "test_gen.reset()\n",
        "pred=model_binary.predict_generator(test_gen,\n",
        "steps=STEP_SIZE_TEST,\n",
        "verbose=1)"
      ],
      "execution_count": 66,
      "outputs": [
        {
          "output_type": "stream",
          "text": [
            "4185/4185 [==============================] - 175s 42ms/step\n"
          ],
          "name": "stdout"
        }
      ]
    },
    {
      "cell_type": "code",
      "metadata": {
        "id": "5tL5xLe3YpF8",
        "colab_type": "code",
        "colab": {
          "base_uri": "https://localhost:8080/",
          "height": 156
        },
        "outputId": "2684205e-eb64-4cde-e5b4-52039ec3a7f1"
      },
      "source": [
        "pred"
      ],
      "execution_count": 67,
      "outputs": [
        {
          "output_type": "execute_result",
          "data": {
            "text/plain": [
              "array([[9.4000697e-03, 5.9549510e-03, 9.7300577e-01, 3.5858154e-04],\n",
              "       [1.0531250e-01, 2.8689814e-01, 5.6403512e-01, 1.6555309e-02],\n",
              "       [2.7801394e-02, 3.4737587e-04, 9.8257363e-01, 1.5181303e-04],\n",
              "       ...,\n",
              "       [6.2743455e-02, 3.5491586e-02, 9.2200935e-01, 3.5764277e-03],\n",
              "       [1.1819035e-02, 4.5695305e-03, 3.5197604e-01, 5.3684664e-01],\n",
              "       [2.1233857e-03, 5.0365925e-06, 9.9894536e-01, 5.3584576e-05]],\n",
              "      dtype=float32)"
            ]
          },
          "metadata": {
            "tags": []
          },
          "execution_count": 67
        }
      ]
    },
    {
      "cell_type": "markdown",
      "metadata": {
        "id": "q9To2RDiXGpA",
        "colab_type": "text"
      },
      "source": [
        "# **Saving the results**"
      ]
    },
    {
      "cell_type": "markdown",
      "metadata": {
        "id": "YY1-p4XlT4Xi",
        "colab_type": "text"
      },
      "source": [
        "Save probabilities to dataframe"
      ]
    },
    {
      "cell_type": "code",
      "metadata": {
        "id": "JwhBF6MKaY82",
        "colab_type": "code",
        "colab": {
          "base_uri": "https://localhost:8080/",
          "height": 424
        },
        "outputId": "5ec66bae-5b27-4412-9beb-a11308588649"
      },
      "source": [
        "ids = np.array(defective_test_labels.ImageId)\n",
        "classes_prediction = np.array([p for p in pred])\n",
        "probabilities_df = pd.DataFrame(columns=['ImageId', 'Class_1', 'Class_2', 'Class_3', 'Class_4'])\n",
        "for i in range(len(ids)):\n",
        "  probabilities_df = probabilities_df.append({'ImageId':ids[i], 'Class_1':classes_prediction[i][0], \n",
        "                                              'Class_2':classes_prediction[i][1], 'Class_3':classes_prediction[i][2], \n",
        "                                              'Class_4':classes_prediction[i][3]}, ignore_index=True)\n",
        "\n",
        "probabilities_df\n",
        "\n",
        "\n"
      ],
      "execution_count": 92,
      "outputs": [
        {
          "output_type": "execute_result",
          "data": {
            "text/html": [
              "<div>\n",
              "<style scoped>\n",
              "    .dataframe tbody tr th:only-of-type {\n",
              "        vertical-align: middle;\n",
              "    }\n",
              "\n",
              "    .dataframe tbody tr th {\n",
              "        vertical-align: top;\n",
              "    }\n",
              "\n",
              "    .dataframe thead th {\n",
              "        text-align: right;\n",
              "    }\n",
              "</style>\n",
              "<table border=\"1\" class=\"dataframe\">\n",
              "  <thead>\n",
              "    <tr style=\"text-align: right;\">\n",
              "      <th></th>\n",
              "      <th>ImageId</th>\n",
              "      <th>Class_1</th>\n",
              "      <th>Class_2</th>\n",
              "      <th>Class_3</th>\n",
              "      <th>Class_4</th>\n",
              "    </tr>\n",
              "  </thead>\n",
              "  <tbody>\n",
              "    <tr>\n",
              "      <th>0</th>\n",
              "      <td>0000f269f.jpg</td>\n",
              "      <td>0.009400</td>\n",
              "      <td>5.954951e-03</td>\n",
              "      <td>0.973006</td>\n",
              "      <td>0.000359</td>\n",
              "    </tr>\n",
              "    <tr>\n",
              "      <th>1</th>\n",
              "      <td>000ccc2ac.jpg</td>\n",
              "      <td>0.105312</td>\n",
              "      <td>2.868981e-01</td>\n",
              "      <td>0.564035</td>\n",
              "      <td>0.016555</td>\n",
              "    </tr>\n",
              "    <tr>\n",
              "      <th>2</th>\n",
              "      <td>002451917.jpg</td>\n",
              "      <td>0.027801</td>\n",
              "      <td>3.473759e-04</td>\n",
              "      <td>0.982574</td>\n",
              "      <td>0.000152</td>\n",
              "    </tr>\n",
              "    <tr>\n",
              "      <th>3</th>\n",
              "      <td>003c5da97.jpg</td>\n",
              "      <td>0.007475</td>\n",
              "      <td>5.698264e-03</td>\n",
              "      <td>0.975482</td>\n",
              "      <td>0.002478</td>\n",
              "    </tr>\n",
              "    <tr>\n",
              "      <th>4</th>\n",
              "      <td>0042e163f.jpg</td>\n",
              "      <td>0.101232</td>\n",
              "      <td>4.244673e-02</td>\n",
              "      <td>0.640853</td>\n",
              "      <td>0.281787</td>\n",
              "    </tr>\n",
              "    <tr>\n",
              "      <th>...</th>\n",
              "      <td>...</td>\n",
              "      <td>...</td>\n",
              "      <td>...</td>\n",
              "      <td>...</td>\n",
              "      <td>...</td>\n",
              "    </tr>\n",
              "    <tr>\n",
              "      <th>4180</th>\n",
              "      <td>ffbf79783.jpg</td>\n",
              "      <td>0.017240</td>\n",
              "      <td>5.671635e-02</td>\n",
              "      <td>0.907734</td>\n",
              "      <td>0.004130</td>\n",
              "    </tr>\n",
              "    <tr>\n",
              "      <th>4181</th>\n",
              "      <td>ffdb60677.jpg</td>\n",
              "      <td>0.000093</td>\n",
              "      <td>6.854534e-07</td>\n",
              "      <td>0.755652</td>\n",
              "      <td>0.175661</td>\n",
              "    </tr>\n",
              "    <tr>\n",
              "      <th>4182</th>\n",
              "      <td>ffe6e2da6.jpg</td>\n",
              "      <td>0.062743</td>\n",
              "      <td>3.549159e-02</td>\n",
              "      <td>0.922009</td>\n",
              "      <td>0.003576</td>\n",
              "    </tr>\n",
              "    <tr>\n",
              "      <th>4183</th>\n",
              "      <td>fff4fd9bb.jpg</td>\n",
              "      <td>0.011819</td>\n",
              "      <td>4.569530e-03</td>\n",
              "      <td>0.351976</td>\n",
              "      <td>0.536847</td>\n",
              "    </tr>\n",
              "    <tr>\n",
              "      <th>4184</th>\n",
              "      <td>fff598023.jpg</td>\n",
              "      <td>0.002123</td>\n",
              "      <td>5.036592e-06</td>\n",
              "      <td>0.998945</td>\n",
              "      <td>0.000054</td>\n",
              "    </tr>\n",
              "  </tbody>\n",
              "</table>\n",
              "<p>4185 rows × 5 columns</p>\n",
              "</div>"
            ],
            "text/plain": [
              "            ImageId   Class_1       Class_2   Class_3   Class_4\n",
              "0     0000f269f.jpg  0.009400  5.954951e-03  0.973006  0.000359\n",
              "1     000ccc2ac.jpg  0.105312  2.868981e-01  0.564035  0.016555\n",
              "2     002451917.jpg  0.027801  3.473759e-04  0.982574  0.000152\n",
              "3     003c5da97.jpg  0.007475  5.698264e-03  0.975482  0.002478\n",
              "4     0042e163f.jpg  0.101232  4.244673e-02  0.640853  0.281787\n",
              "...             ...       ...           ...       ...       ...\n",
              "4180  ffbf79783.jpg  0.017240  5.671635e-02  0.907734  0.004130\n",
              "4181  ffdb60677.jpg  0.000093  6.854534e-07  0.755652  0.175661\n",
              "4182  ffe6e2da6.jpg  0.062743  3.549159e-02  0.922009  0.003576\n",
              "4183  fff4fd9bb.jpg  0.011819  4.569530e-03  0.351976  0.536847\n",
              "4184  fff598023.jpg  0.002123  5.036592e-06  0.998945  0.000054\n",
              "\n",
              "[4185 rows x 5 columns]"
            ]
          },
          "metadata": {
            "tags": []
          },
          "execution_count": 92
        }
      ]
    },
    {
      "cell_type": "markdown",
      "metadata": {
        "id": "pkijWZKlW-L-",
        "colab_type": "text"
      },
      "source": [
        "Save dataframe to file and download it."
      ]
    },
    {
      "cell_type": "code",
      "metadata": {
        "id": "wAAmAUZhdB75",
        "colab_type": "code",
        "colab": {
          "base_uri": "https://localhost:8080/",
          "height": 124
        },
        "outputId": "1cea80b6-21d7-4283-cfc3-df3a331481fe"
      },
      "source": [
        "from google.colab import files\n",
        "from google.colab import drive\n",
        "probabilities_df.to_csv('classes_probabilities.csv') \n",
        "#files.download('classes_probabilities.csv')\n",
        "drive.mount('/content/gdrive') \n"
      ],
      "execution_count": 98,
      "outputs": [
        {
          "output_type": "stream",
          "text": [
            "Go to this URL in a browser: https://accounts.google.com/o/oauth2/auth?client_id=947318989803-6bn6qk8qdgf4n4g3pfee6491hc0brc4i.apps.googleusercontent.com&redirect_uri=urn%3aietf%3awg%3aoauth%3a2.0%3aoob&response_type=code&scope=email%20https%3a%2f%2fwww.googleapis.com%2fauth%2fdocs.test%20https%3a%2f%2fwww.googleapis.com%2fauth%2fdrive%20https%3a%2f%2fwww.googleapis.com%2fauth%2fdrive.photos.readonly%20https%3a%2f%2fwww.googleapis.com%2fauth%2fpeopleapi.readonly\n",
            "\n",
            "Enter your authorization code:\n",
            "··········\n",
            "Mounted at /content/gdrive\n"
          ],
          "name": "stdout"
        }
      ]
    },
    {
      "cell_type": "code",
      "metadata": {
        "id": "LF-uBtKFciPC",
        "colab_type": "code",
        "colab": {}
      },
      "source": [
        "!cp /content/classes_probabilities.csv gdrive/My\\ Drive/Datasets"
      ],
      "execution_count": 0,
      "outputs": []
    }
  ]
}