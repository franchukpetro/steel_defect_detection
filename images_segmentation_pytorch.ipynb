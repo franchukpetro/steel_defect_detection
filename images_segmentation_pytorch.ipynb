{
  "nbformat": 4,
  "nbformat_minor": 0,
  "metadata": {
    "colab": {
      "name": "images_segmentation_pytorch.ipynb",
      "provenance": [],
      "collapsed_sections": []
    },
    "kernelspec": {
      "name": "python3",
      "display_name": "Python 3"
    },
    "accelerator": "GPU",
    "widgets": {
      "application/vnd.jupyter.widget-state+json": {
        "92c76f3dd5164afb936d128ff3cd35ce": {
          "model_module": "@jupyter-widgets/controls",
          "model_name": "HBoxModel",
          "state": {
            "_view_name": "HBoxView",
            "_dom_classes": [],
            "_model_name": "HBoxModel",
            "_view_module": "@jupyter-widgets/controls",
            "_model_module_version": "1.5.0",
            "_view_count": null,
            "_view_module_version": "1.5.0",
            "box_style": "",
            "layout": "IPY_MODEL_a92d135d539742f6871f86f802cfbdfd",
            "_model_module": "@jupyter-widgets/controls",
            "children": [
              "IPY_MODEL_641d111207bc4800825e4573cdf539c3",
              "IPY_MODEL_fa4585c797fb42dfa1e2684b9bf49e1d"
            ]
          }
        },
        "a92d135d539742f6871f86f802cfbdfd": {
          "model_module": "@jupyter-widgets/base",
          "model_name": "LayoutModel",
          "state": {
            "_view_name": "LayoutView",
            "grid_template_rows": null,
            "right": null,
            "justify_content": null,
            "_view_module": "@jupyter-widgets/base",
            "overflow": null,
            "_model_module_version": "1.2.0",
            "_view_count": null,
            "flex_flow": null,
            "width": null,
            "min_width": null,
            "border": null,
            "align_items": null,
            "bottom": null,
            "_model_module": "@jupyter-widgets/base",
            "top": null,
            "grid_column": null,
            "overflow_y": null,
            "overflow_x": null,
            "grid_auto_flow": null,
            "grid_area": null,
            "grid_template_columns": null,
            "flex": null,
            "_model_name": "LayoutModel",
            "justify_items": null,
            "grid_row": null,
            "max_height": null,
            "align_content": null,
            "visibility": null,
            "align_self": null,
            "height": null,
            "min_height": null,
            "padding": null,
            "grid_auto_rows": null,
            "grid_gap": null,
            "max_width": null,
            "order": null,
            "_view_module_version": "1.2.0",
            "grid_template_areas": null,
            "object_position": null,
            "object_fit": null,
            "grid_auto_columns": null,
            "margin": null,
            "display": null,
            "left": null
          }
        },
        "641d111207bc4800825e4573cdf539c3": {
          "model_module": "@jupyter-widgets/controls",
          "model_name": "IntProgressModel",
          "state": {
            "_view_name": "ProgressView",
            "style": "IPY_MODEL_ea07ef250b3c401cb02dfbfaf4dd3417",
            "_dom_classes": [],
            "description": "",
            "_model_name": "IntProgressModel",
            "bar_style": "danger",
            "max": 180,
            "_view_module": "@jupyter-widgets/controls",
            "_model_module_version": "1.5.0",
            "value": 0,
            "_view_count": null,
            "_view_module_version": "1.5.0",
            "orientation": "horizontal",
            "min": 0,
            "description_tooltip": null,
            "_model_module": "@jupyter-widgets/controls",
            "layout": "IPY_MODEL_740c0f70f3484e11be87dae8901cb3e5"
          }
        },
        "fa4585c797fb42dfa1e2684b9bf49e1d": {
          "model_module": "@jupyter-widgets/controls",
          "model_name": "HTMLModel",
          "state": {
            "_view_name": "HTMLView",
            "style": "IPY_MODEL_7cebcbd38aac439c9b8965fefb7ce03e",
            "_dom_classes": [],
            "description": "",
            "_model_name": "HTMLModel",
            "placeholder": "​",
            "_view_module": "@jupyter-widgets/controls",
            "_model_module_version": "1.5.0",
            "value": "  0% 0/180 [00:00&lt;?, ?it/s]",
            "_view_count": null,
            "_view_module_version": "1.5.0",
            "description_tooltip": null,
            "_model_module": "@jupyter-widgets/controls",
            "layout": "IPY_MODEL_d7593b003827489dab6d9d4129dd3651"
          }
        },
        "ea07ef250b3c401cb02dfbfaf4dd3417": {
          "model_module": "@jupyter-widgets/controls",
          "model_name": "ProgressStyleModel",
          "state": {
            "_view_name": "StyleView",
            "_model_name": "ProgressStyleModel",
            "description_width": "",
            "_view_module": "@jupyter-widgets/base",
            "_model_module_version": "1.5.0",
            "_view_count": null,
            "_view_module_version": "1.2.0",
            "bar_color": null,
            "_model_module": "@jupyter-widgets/controls"
          }
        },
        "740c0f70f3484e11be87dae8901cb3e5": {
          "model_module": "@jupyter-widgets/base",
          "model_name": "LayoutModel",
          "state": {
            "_view_name": "LayoutView",
            "grid_template_rows": null,
            "right": null,
            "justify_content": null,
            "_view_module": "@jupyter-widgets/base",
            "overflow": null,
            "_model_module_version": "1.2.0",
            "_view_count": null,
            "flex_flow": null,
            "width": null,
            "min_width": null,
            "border": null,
            "align_items": null,
            "bottom": null,
            "_model_module": "@jupyter-widgets/base",
            "top": null,
            "grid_column": null,
            "overflow_y": null,
            "overflow_x": null,
            "grid_auto_flow": null,
            "grid_area": null,
            "grid_template_columns": null,
            "flex": null,
            "_model_name": "LayoutModel",
            "justify_items": null,
            "grid_row": null,
            "max_height": null,
            "align_content": null,
            "visibility": null,
            "align_self": null,
            "height": null,
            "min_height": null,
            "padding": null,
            "grid_auto_rows": null,
            "grid_gap": null,
            "max_width": null,
            "order": null,
            "_view_module_version": "1.2.0",
            "grid_template_areas": null,
            "object_position": null,
            "object_fit": null,
            "grid_auto_columns": null,
            "margin": null,
            "display": null,
            "left": null
          }
        },
        "7cebcbd38aac439c9b8965fefb7ce03e": {
          "model_module": "@jupyter-widgets/controls",
          "model_name": "DescriptionStyleModel",
          "state": {
            "_view_name": "StyleView",
            "_model_name": "DescriptionStyleModel",
            "description_width": "",
            "_view_module": "@jupyter-widgets/base",
            "_model_module_version": "1.5.0",
            "_view_count": null,
            "_view_module_version": "1.2.0",
            "_model_module": "@jupyter-widgets/controls"
          }
        },
        "d7593b003827489dab6d9d4129dd3651": {
          "model_module": "@jupyter-widgets/base",
          "model_name": "LayoutModel",
          "state": {
            "_view_name": "LayoutView",
            "grid_template_rows": null,
            "right": null,
            "justify_content": null,
            "_view_module": "@jupyter-widgets/base",
            "overflow": null,
            "_model_module_version": "1.2.0",
            "_view_count": null,
            "flex_flow": null,
            "width": null,
            "min_width": null,
            "border": null,
            "align_items": null,
            "bottom": null,
            "_model_module": "@jupyter-widgets/base",
            "top": null,
            "grid_column": null,
            "overflow_y": null,
            "overflow_x": null,
            "grid_auto_flow": null,
            "grid_area": null,
            "grid_template_columns": null,
            "flex": null,
            "_model_name": "LayoutModel",
            "justify_items": null,
            "grid_row": null,
            "max_height": null,
            "align_content": null,
            "visibility": null,
            "align_self": null,
            "height": null,
            "min_height": null,
            "padding": null,
            "grid_auto_rows": null,
            "grid_gap": null,
            "max_width": null,
            "order": null,
            "_view_module_version": "1.2.0",
            "grid_template_areas": null,
            "object_position": null,
            "object_fit": null,
            "grid_auto_columns": null,
            "margin": null,
            "display": null,
            "left": null
          }
        }
      }
    }
  },
  "cells": [
    {
      "cell_type": "code",
      "metadata": {
        "id": "ZP4CzDE_rHFe",
        "colab_type": "code",
        "colab": {}
      },
      "source": [
        "# visualization library\n",
        "import cv2\n",
        "import PIL\n",
        "from matplotlib import pyplot as plt\n",
        "# data storing library\n",
        "import numpy as np\n",
        "import pandas as pd\n",
        "# torch libraries\n",
        "from torch.optim.lr_scheduler import ReduceLROnPlateau\n",
        "import torch\n",
        "import torch.nn as nn\n",
        "from torch.nn import functional as F\n",
        "import torch.optim as optim\n",
        "import torch.backends.cudnn as cudnn\n",
        "from torch.utils.data import DataLoader, Dataset, sampler\n",
        "# architecture and data split library\n",
        "from sklearn.model_selection import train_test_split\n",
        "!pip install segmentation_models_pytorch\n",
        "import segmentation_models_pytorch as smp\n",
        "# augmenation library\n",
        "from albumentations import (HorizontalFlip, ShiftScaleRotate, Normalize, Resize, Compose, GaussNoise)\n",
        "from albumentations.pytorch import ToTensor\n",
        "# others\n",
        "import os\n",
        "import pdb\n",
        "import time\n",
        "import warnings\n",
        "import random\n",
        "from tqdm import tqdm_notebook as tqdm\n",
        "import concurrent.futures\n",
        "# warning print supression\n",
        "warnings.filterwarnings(\"ignore\")"
      ],
      "execution_count": 0,
      "outputs": []
    },
    {
      "cell_type": "code",
      "metadata": {
        "id": "2eZJG0--sVYN",
        "colab_type": "code",
        "colab": {}
      },
      "source": [
        "!pip install -U -q PyDrive\n",
        "from pydrive.auth import GoogleAuth\n",
        "from pydrive.drive import GoogleDrive\n",
        "from google.colab import auth\n",
        "from oauth2client.client import GoogleCredentials\n",
        "import zipfile\n",
        "from google.colab import drive\n",
        "\n",
        "# 1. Authenticate and create the PyDrive client.\n",
        "auth.authenticate_user()\n",
        "gauth = GoogleAuth()\n",
        "gauth.credentials = GoogleCredentials.get_application_default()\n",
        "drive = GoogleDrive(gauth)\n",
        "\n",
        "# choose a local (colab) directory to store the data.\n",
        "local_download_path = os.path.expanduser('/content/data')\n",
        "try:\n",
        "  os.makedirs(local_download_path)\n",
        "except: pass\n",
        "\n",
        "# 2. Auto-iterate using the query syntax\n",
        "#    https://developers.google.com/drive/v2/web/search-parameters\n",
        "# list of files in Google Drive folder\n",
        "file_list = drive.ListFile(\n",
        "    {'q': \"'1MsgfnmWPV-Nod0s1ZejYfsvbIwRMKZg_' in parents\"}).GetList()\n",
        "\n",
        "# find data in .zip format and save it\n",
        "for f in file_list:\n",
        "  # read csv file with predictions from previous layer (probability for each \n",
        "  #image whether there are any defect on it)\n",
        "  if f['title'] == \"classes_probabilities.csv\":\n",
        "    fname = os.path.join(local_download_path, f['title'])\n",
        "    f_ = drive.CreateFile({'id': f['id']})\n",
        "    f_.GetContentFile(fname)\n",
        "\n",
        "  if f['title'] == \"severstal-steel-defect-detection.zip\":\n",
        "    zipname = os.path.join(local_download_path, f['title'])\n",
        "    f_ = drive.CreateFile({'id': f['id']})\n",
        "    f_.GetContentFile(zipname)\n",
        "\n",
        "    # extract files from zip to \"extracted/\" directory, this directory will be \n",
        "    # used for further data modelling\n",
        "    zip_ref = zipfile.ZipFile(zipname, 'r')\n",
        "    zip_ref.extractall(os.path.join(local_download_path, \"extracted\"))\n",
        "    zip_ref.close()\n"
      ],
      "execution_count": 0,
      "outputs": []
    },
    {
      "cell_type": "code",
      "metadata": {
        "id": "N41wum_5zror",
        "colab_type": "code",
        "colab": {}
      },
      "source": [
        "working_dir = os.path.join(local_download_path, \"extracted\")\n",
        "\n",
        "# defining working folders and labels\n",
        "train_images_folder = os.path.join(working_dir, \"train_images\")\n",
        "train_labels_file = os.path.join(working_dir, \"train.csv\")\n",
        "\n",
        "test_images_folder = os.path.join(working_dir, \"test_images\")\n",
        "test_labels_file = os.path.join(working_dir, \"sample_submission.csv\")"
      ],
      "execution_count": 0,
      "outputs": []
    },
    {
      "cell_type": "code",
      "metadata": {
        "id": "zx6BUUFG0CFR",
        "colab_type": "code",
        "colab": {}
      },
      "source": [
        "train_labels = pd.read_csv(train_labels_file)\n",
        "test_labels = pd.read_csv(test_labels_file)"
      ],
      "execution_count": 0,
      "outputs": []
    },
    {
      "cell_type": "code",
      "metadata": {
        "id": "7GbVy8R80DZx",
        "colab_type": "code",
        "colab": {}
      },
      "source": [
        "probabilities = pd.read_csv(fname).drop([\"Unnamed: 0\"], axis=1)"
      ],
      "execution_count": 0,
      "outputs": []
    },
    {
      "cell_type": "code",
      "metadata": {
        "id": "jAgaOYvw0FJp",
        "colab_type": "code",
        "colab": {}
      },
      "source": [
        "class_1_df = pd.DataFrame()\n",
        "class_2_df = pd.DataFrame()\n",
        "class_3_df = pd.DataFrame()\n",
        "class_4_df = pd.DataFrame()\n",
        "\n",
        "selected_class_1 = probabilities.ImageId[probabilities.Class_1 > 0.5].to_list()\n",
        "selected_class_2 = probabilities.ImageId[probabilities.Class_2 > 0.5].to_list()\n",
        "selected_class_3 = probabilities.ImageId[probabilities.Class_3 > 0.5].to_list()\n",
        "selected_class_4 = probabilities.ImageId[probabilities.Class_4 > 0.5].to_list()\n",
        "\n",
        "for index, row in test_labels.iterrows():\n",
        "  \n",
        "  if row.ImageId in selected_class_1:\n",
        "    class_1_df = class_1_df.append(row, ignore_index=True)\n",
        "  \n",
        "  if row.ImageId in selected_class_2:\n",
        "    class_2_df = class_2_df.append(row, ignore_index=True)\n",
        "\n",
        "  if row.ImageId in selected_class_3:\n",
        "    class_3_df = class_3_df.append(row, ignore_index=True)\n",
        "\n",
        "  if row.ImageId in selected_class_4:\n",
        "    class_4_df = class_4_df.append(row, ignore_index=True)"
      ],
      "execution_count": 0,
      "outputs": []
    },
    {
      "cell_type": "code",
      "metadata": {
        "id": "1xqc17WR0IN5",
        "colab_type": "code",
        "colab": {}
      },
      "source": [
        "train4class_1 = train_labels[train_labels.ClassId == 1]\n",
        "train4class_2 = train_labels[train_labels.ClassId == 2]\n",
        "train4class_3 = train_labels[train_labels.ClassId == 3]\n",
        "train4class_4 = train_labels[train_labels.ClassId == 4]"
      ],
      "execution_count": 0,
      "outputs": []
    },
    {
      "cell_type": "code",
      "metadata": {
        "id": "hnXCHuIh0Lv-",
        "colab_type": "code",
        "colab": {}
      },
      "source": [
        "!mkdir data/train_classes/class_1/ -p\n",
        "!mkdir data/train_classes/class_2/ -p\n",
        "!mkdir data/train_classes/class_3/ -p\n",
        "!mkdir data/train_classes/class_4/ -p\n",
        "\n",
        "train_classes_folder = \"/content/data/train_classes\""
      ],
      "execution_count": 0,
      "outputs": []
    },
    {
      "cell_type": "code",
      "metadata": {
        "id": "XR5tPqTg0Wou",
        "colab_type": "code",
        "colab": {}
      },
      "source": [
        "from shutil import copyfile\n",
        "\n",
        "def copy_class2folder(df, source_path, target_path ):\n",
        "  for filename in df.ImageId:\n",
        "    PIL.Image.open(os.path.join(source_path, filename)).resize((256, 256)).save(os.path.join(target_path, filename.split(\".\")[0] + \".png\"))"
      ],
      "execution_count": 0,
      "outputs": []
    },
    {
      "cell_type": "code",
      "metadata": {
        "id": "cymX4AbI0lcG",
        "colab_type": "code",
        "colab": {}
      },
      "source": [
        "copy_class2folder(train4class_1, train_images_folder,  os.path.join(train_classes_folder, \"class_1/\"))\n",
        "copy_class2folder(train4class_2, train_images_folder,  os.path.join(train_classes_folder, \"class_2/\"))\n",
        "copy_class2folder(train4class_3, train_images_folder,  os.path.join(train_classes_folder, \"class_3/\"))\n",
        "copy_class2folder(train4class_4, train_images_folder,  os.path.join(train_classes_folder, \"class_4/\"))"
      ],
      "execution_count": 0,
      "outputs": []
    },
    {
      "cell_type": "code",
      "metadata": {
        "id": "3YhOlcpwROX3",
        "colab_type": "code",
        "colab": {}
      },
      "source": [
        "train4class_1.ImageId = train4class_1.ImageId.str.replace(\"jpg\", \"png\")\n",
        "train4class_2.ImageId = train4class_2.ImageId.str.replace(\"jpg\", \"png\")\n",
        "train4class_3.ImageId = train4class_3.ImageId.str.replace(\"jpg\", \"png\")\n",
        "train4class_4.ImageId = train4class_4.ImageId.str.replace(\"jpg\", \"png\")"
      ],
      "execution_count": 0,
      "outputs": []
    },
    {
      "cell_type": "code",
      "metadata": {
        "id": "BMdGMwfp0mVu",
        "colab_type": "code",
        "colab": {}
      },
      "source": [
        "def rle_decode(mask_rle, shape):\n",
        "    '''\n",
        "    mask_rle: run-length as string formated (start length)\n",
        "    shape: (height,width) of array to return \n",
        "    Returns numpy array, 1 - mask, 0 - background\n",
        "\n",
        "    '''\n",
        "    s = mask_rle.split()\n",
        "    starts, lengths = [np.asarray(x, dtype=int) for x in (s[0:][::2], s[1:][::2])]\n",
        "    starts -= 1\n",
        "    ends = starts + lengths\n",
        "    img = np.zeros(shape[0]*shape[1], dtype=np.uint8)\n",
        "    for lo, hi in zip(starts, ends):\n",
        "        img[lo:hi] = 1\n",
        "    \n",
        "    return img.reshape(shape).T"
      ],
      "execution_count": 0,
      "outputs": []
    },
    {
      "cell_type": "code",
      "metadata": {
        "id": "s1JDPGDs0-Mx",
        "colab_type": "code",
        "colab": {}
      },
      "source": [
        "def rle2img(rle, path):\n",
        "  mask = rle_decode(rle, (1600, 256))\n",
        "  image = PIL.Image.fromarray(mask).resize((256, 256))\n",
        "  image.save(path)"
      ],
      "execution_count": 0,
      "outputs": []
    },
    {
      "cell_type": "code",
      "metadata": {
        "id": "pVNBoQYp0_qw",
        "colab_type": "code",
        "colab": {}
      },
      "source": [
        "def encoded_px2images(path, df):\n",
        "  for index, row in df.iterrows():\n",
        "    rle = row.EncodedPixels\n",
        "    imagename = row.ImageId.split(\".\")[0]\n",
        "    \n",
        "    rle2img(rle, os.path.join(path, imagename + \".png\"))"
      ],
      "execution_count": 0,
      "outputs": []
    },
    {
      "cell_type": "code",
      "metadata": {
        "id": "xd2B1Nns1Dzn",
        "colab_type": "code",
        "colab": {}
      },
      "source": [
        "!mkdir data/train_masks/class_1/ -p\n",
        "!mkdir data/train_masks/class_2/ -p\n",
        "!mkdir data/train_masks/class_3/ -p\n",
        "!mkdir data/train_masks/class_4/ -p \n",
        "\n",
        "train_masks_folder = \"/content/data/train_masks\""
      ],
      "execution_count": 0,
      "outputs": []
    },
    {
      "cell_type": "code",
      "metadata": {
        "id": "KadE6BlA1JvY",
        "colab_type": "code",
        "colab": {}
      },
      "source": [
        "encoded_px2images(os.path.join(train_masks_folder, \"class_1\"), train4class_1)\n",
        "encoded_px2images(os.path.join(train_masks_folder, \"class_2\"), train4class_2)\n",
        "encoded_px2images(os.path.join(train_masks_folder, \"class_3\"), train4class_3)\n",
        "encoded_px2images(os.path.join(train_masks_folder, \"class_4\"), train4class_4)"
      ],
      "execution_count": 0,
      "outputs": []
    },
    {
      "cell_type": "code",
      "metadata": {
        "id": "uQcvRNqb8Xro",
        "colab_type": "code",
        "colab": {}
      },
      "source": [
        "# imagenet mean/std will be used as the resnet backbone is trained on imagenet stats\n",
        "mean, std=(0.485, 0.456, 0.406),(0.229, 0.224, 0.225)\n",
        "\n",
        "# during traning/val phase make a list of transforms to be used.\n",
        "# input-->\"phase\",mean,std\n",
        "# output-->list\n",
        "def get_transform(phase,mean,std):\n",
        "    list_trans=[]\n",
        "    if phase=='train':\n",
        "        list_trans.extend([HorizontalFlip(p=0.5)])\n",
        "    list_trans.extend([Normalize(mean=mean,std=std, p=1), ToTensor()])  #normalizing the data & then converting to tensors\n",
        "    list_trans=Compose(list_trans)\n",
        "    return list_trans"
      ],
      "execution_count": 0,
      "outputs": []
    },
    {
      "cell_type": "code",
      "metadata": {
        "id": "HRkbx7mhL8v3",
        "colab_type": "code",
        "colab": {}
      },
      "source": [
        "'''when dataloader request for samples using index it fetches input image and target mask,\n",
        "apply transformation and returns it'''\n",
        "class SteelDataset(Dataset):\n",
        "    \n",
        "    def __init__(self,df,img_fol,mask_fol,mean,std,phase):\n",
        "        self.fname=df['ImageId'].values.tolist()\n",
        "        self.img_fol=img_fol\n",
        "        self.mask_fol=mask_fol\n",
        "        self.mean=mean\n",
        "        self.std=std\n",
        "        self.phase=phase\n",
        "        self.trasnform=get_transform(phase,mean,std)\n",
        "    \n",
        "    def __getitem__(self, idx):\n",
        "        name=self.fname[idx]\n",
        "        img_name_path=os.path.join(self.img_fol,name)\n",
        "        mask_name_path=os.path.join(self.mask_fol,name)\n",
        "        img=cv2.imread(img_name_path)\n",
        "        mask=cv2.imread(mask_name_path,cv2.IMREAD_GRAYSCALE)\n",
        "        augmentation=self.trasnform(image=img, mask=mask)\n",
        "        img_aug=augmentation['image']                           #[3,128,128] type:Tensor\n",
        "        mask_aug=augmentation['mask']                           #[1,128,128] type:Tensor\n",
        "        return img_aug, mask_aug\n",
        "\n",
        "    def __len__(self):\n",
        "        return len(self.fname)"
      ],
      "execution_count": 0,
      "outputs": []
    },
    {
      "cell_type": "code",
      "metadata": {
        "id": "ra4B3Gk4N4PO",
        "colab_type": "code",
        "colab": {}
      },
      "source": [
        "'''divide data into train and val and return the dataloader depending upon train or val phase.'''\n",
        "def SteelDataloader(df,img_fol,mask_fol,mean,std,phase,batch_size,num_workers):\n",
        "    df_train,df_valid=train_test_split(df, test_size=0.2, random_state=69)\n",
        "    df = df_train if phase=='train' else df_valid\n",
        "    for_loader=SteelDataset(df, img_fol, mask_fol, mean, std, phase)\n",
        "    dataloader=DataLoader(for_loader, batch_size=batch_size, num_workers=num_workers, pin_memory=True)\n",
        "\n",
        "    return dataloader"
      ],
      "execution_count": 0,
      "outputs": []
    },
    {
      "cell_type": "code",
      "metadata": {
        "id": "aSvLJZ8_OLME",
        "colab_type": "code",
        "colab": {}
      },
      "source": [
        "'''calculates dice scores when Scores class for it'''\n",
        "def dice_score(pred, targs):\n",
        "    pred = (pred>0).float()\n",
        "    return 2. * (pred*targs).sum() / (pred+targs).sum()\n",
        "\n",
        "''' initialize a empty list when Scores is called, append the list with dice scores\n",
        "for every batch, at the end of epoch calculates mean of the dice scores'''\n",
        "class Scores:\n",
        "    def __init__(self, phase, epoch):\n",
        "        self.base_dice_scores = []\n",
        "\n",
        "    def update(self, targets, outputs):\n",
        "        probs = outputs\n",
        "        dice= dice_score(probs, targets)\n",
        "        self.base_dice_scores.append(dice)\n",
        "\n",
        "    def get_metrics(self):\n",
        "        dice = np.mean(self.base_dice_scores)         \n",
        "        return dice\n",
        "\n",
        "'''return dice score for epoch when called'''\n",
        "def epoch_log(epoch_loss, measure):\n",
        "    '''logging the metrics at the end of an epoch'''\n",
        "    dices= measure.get_metrics()    \n",
        "    dice= dices                       \n",
        "    print(\"Loss: %0.4f |dice: %0.4f\" % (epoch_loss, dice))\n",
        "    return dice"
      ],
      "execution_count": 0,
      "outputs": []
    },
    {
      "cell_type": "code",
      "metadata": {
        "id": "UqM6NybvOSyp",
        "colab_type": "code",
        "colab": {}
      },
      "source": [
        "class Trainer(object):\n",
        "    def __init__(self,model):\n",
        "        self.num_workers=4\n",
        "        self.batch_size={'train':1, 'val':1}\n",
        "        self.accumulation_steps=4//self.batch_size['train']\n",
        "        self.lr=5e-4\n",
        "        self.num_epochs=15\n",
        "        self.phases=['train','val']\n",
        "        self.best_loss=float('inf')\n",
        "        self.device=torch.device(\"cuda:0\")\n",
        "        torch.set_default_tensor_type(\"torch.cuda.FloatTensor\")\n",
        "        self.net=model.to(self.device)\n",
        "        cudnn.benchmark= True\n",
        "        self.criterion=torch.nn.BCEWithLogitsLoss()\n",
        "        self.optimizer=optim.Adam(self.net.parameters(),lr=self.lr)\n",
        "        self.scheduler=ReduceLROnPlateau(self.optimizer,mode='min',patience=3, verbose=True)\n",
        "        self.dataloaders={phase: SteelDataloader(train4class_1, os.path.join(train_classes_folder, \"class_1/\"),\n",
        "                                               os.path.join(train_masks_folder, \"class_1/\"), mean, std,\n",
        "                                               phase=phase,batch_size=self.batch_size[phase],\n",
        "                                               num_workers=self.num_workers) for phase in self.phases}\n",
        "\n",
        "        self.losses={phase:[] for phase in self.phases}\n",
        "        self.dice_score={phase:[] for phase in self.phases}\n",
        "\n",
        "    def forward(self, inp_images, tar_mask):\n",
        "        inp_images=inp_images.to(self.device)\n",
        "        tar_mask=tar_mask.to(self.device)\n",
        "        pred_mask=self.net(inp_images)\n",
        "        loss=self.criterion(pred_mask,tar_mask)\n",
        "        return loss, pred_mask\n",
        "\n",
        "    def iterate(self, epoch, phase):\n",
        "        measure=Scores(phase, epoch)\n",
        "        start=time.strftime(\"%H:%M:%S\")\n",
        "        print (f\"Starting epoch: {epoch} | phase:{phase} | 🙊':{start}\")\n",
        "        batch_size=self.batch_size[phase]\n",
        "        self.net.train(phase==\"train\")\n",
        "        dataloader=self.dataloaders[phase]\n",
        "        running_loss=0.0\n",
        "        total_batches=len(dataloader)\n",
        "        self.optimizer.zero_grad()\n",
        "        for itr,batch in enumerate(dataloader):\n",
        "            images,mask_target=batch\n",
        "            loss, pred_mask=self.forward(images,mask_target)\n",
        "            loss=loss/self.accumulation_steps\n",
        "            if phase=='train':\n",
        "                loss.backward()\n",
        "                if (itr+1) % self.accumulation_steps ==0:\n",
        "                    self.optimizer.step()\n",
        "                    self.optimizer.zero_grad()\n",
        "            running_loss+=loss.item()\n",
        "            pred_mask=pred_mask.detach().cpu()\n",
        "            measure.update(mask_target,pred_mask)\n",
        "        epoch_loss=(running_loss*self.accumulation_steps)/total_batches\n",
        "        dice=epoch_log(epoch_loss, measure)\n",
        "        self.losses[phase].append(epoch_loss)\n",
        "        self.dice_score[phase].append(dice)\n",
        "        torch.cuda.empty_cache()\n",
        "        return epoch_loss\n",
        "\n",
        "    def start(self):\n",
        "        for epoch in range (self.num_epochs):\n",
        "            self.iterate(epoch,\"train\")\n",
        "            state = {\n",
        "                \"epoch\": epoch,\n",
        "                \"best_loss\": self.best_loss,\n",
        "                \"state_dict\": self.net.state_dict(),\n",
        "                \"optimizer\": self.optimizer.state_dict(),\n",
        "            }\n",
        "            with torch.no_grad():\n",
        "                val_loss=self.iterate(epoch,\"val\")\n",
        "                self.scheduler.step(val_loss)\n",
        "            if val_loss < self.best_loss:\n",
        "                print(\"******** New optimal found, saving state ********\")\n",
        "                state[\"best_loss\"] = self.best_loss = val_loss\n",
        "                torch.save(state, \"./model_office.pth\")\n",
        "            print ()"
      ],
      "execution_count": 0,
      "outputs": []
    },
    {
      "cell_type": "code",
      "metadata": {
        "id": "RSm1pM2COc1i",
        "colab_type": "code",
        "colab": {
          "base_uri": "https://localhost:8080/",
          "height": 52
        },
        "outputId": "563f3e81-c56c-4c3f-8ddd-5983ddfd09c1"
      },
      "source": [
        "model = smp.Unet(\"resnet18\", encoder_weights=\"imagenet\", classes=1, activation=None)"
      ],
      "execution_count": 22,
      "outputs": [
        {
          "output_type": "stream",
          "text": [
            "Downloading: \"https://download.pytorch.org/models/resnet18-5c106cde.pth\" to /root/.cache/torch/checkpoints/resnet18-5c106cde.pth\n",
            "100%|██████████| 44.7M/44.7M [00:01<00:00, 39.7MB/s]\n"
          ],
          "name": "stderr"
        }
      ]
    },
    {
      "cell_type": "code",
      "metadata": {
        "id": "uOcMWfgmOgb9",
        "colab_type": "code",
        "colab": {
          "base_uri": "https://localhost:8080/",
          "height": 1000
        },
        "outputId": "4995737e-a949-4aad-e0d6-9aa49439155f"
      },
      "source": [
        "model_trainer = Trainer(model)\n",
        "model_trainer.start()"
      ],
      "execution_count": 23,
      "outputs": [
        {
          "output_type": "stream",
          "text": [
            "Starting epoch: 0 | phase:train | 🙊':19:30:36\n",
            "Loss: 0.1065 |dice: 0.0000\n",
            "Starting epoch: 0 | phase:val | 🙊':19:30:54\n",
            "Loss: 0.0200 |dice: 0.0000\n",
            "******** New optimal found, saving state ********\n",
            "\n",
            "Starting epoch: 1 | phase:train | 🙊':19:30:56\n",
            "Loss: 0.0114 |dice: 0.0000\n",
            "Starting epoch: 1 | phase:val | 🙊':19:31:13\n",
            "Loss: 0.0067 |dice: 0.0000\n",
            "******** New optimal found, saving state ********\n",
            "\n",
            "Starting epoch: 2 | phase:train | 🙊':19:31:15\n",
            "Loss: 0.0047 |dice: 0.0000\n",
            "Starting epoch: 2 | phase:val | 🙊':19:31:31\n",
            "Loss: 0.0035 |dice: 0.0000\n",
            "******** New optimal found, saving state ********\n",
            "\n",
            "Starting epoch: 3 | phase:train | 🙊':19:31:34\n",
            "Loss: 0.0027 |dice: 0.0000\n",
            "Starting epoch: 3 | phase:val | 🙊':19:31:50\n",
            "Loss: 0.0022 |dice: 0.0000\n",
            "******** New optimal found, saving state ********\n",
            "\n",
            "Starting epoch: 4 | phase:train | 🙊':19:31:52\n",
            "Loss: 0.0019 |dice: 0.0000\n",
            "Starting epoch: 4 | phase:val | 🙊':19:32:09\n",
            "Loss: 0.0016 |dice: 0.0000\n",
            "******** New optimal found, saving state ********\n",
            "\n",
            "Starting epoch: 5 | phase:train | 🙊':19:32:11\n",
            "Loss: 0.0014 |dice: 0.0000\n",
            "Starting epoch: 5 | phase:val | 🙊':19:32:28\n",
            "Loss: 0.0012 |dice: 0.0000\n",
            "******** New optimal found, saving state ********\n",
            "\n",
            "Starting epoch: 6 | phase:train | 🙊':19:32:30\n",
            "Loss: 0.0011 |dice: 0.0000\n",
            "Starting epoch: 6 | phase:val | 🙊':19:32:47\n",
            "Loss: 0.0010 |dice: 0.0000\n",
            "******** New optimal found, saving state ********\n",
            "\n",
            "Starting epoch: 7 | phase:train | 🙊':19:32:49\n",
            "Loss: 0.0009 |dice: 0.0000\n",
            "Starting epoch: 7 | phase:val | 🙊':19:33:06\n",
            "Loss: 0.0009 |dice: 0.0000\n",
            "******** New optimal found, saving state ********\n",
            "\n",
            "Starting epoch: 8 | phase:train | 🙊':19:33:08\n",
            "Loss: 0.0008 |dice: 0.0000\n",
            "Starting epoch: 8 | phase:val | 🙊':19:33:24\n",
            "Loss: 0.0008 |dice: 0.0000\n",
            "******** New optimal found, saving state ********\n",
            "\n",
            "Starting epoch: 9 | phase:train | 🙊':19:33:27\n",
            "Loss: 0.0007 |dice: 0.0000\n",
            "Starting epoch: 9 | phase:val | 🙊':19:33:43\n",
            "Loss: 0.0007 |dice: 0.0000\n",
            "******** New optimal found, saving state ********\n",
            "\n",
            "Starting epoch: 10 | phase:train | 🙊':19:33:46\n",
            "Loss: 0.0006 |dice: 0.0000\n",
            "Starting epoch: 10 | phase:val | 🙊':19:34:02\n",
            "Loss: 0.0006 |dice: 0.0000\n",
            "******** New optimal found, saving state ********\n",
            "\n",
            "Starting epoch: 11 | phase:train | 🙊':19:34:05\n",
            "Loss: 0.0006 |dice: 0.0000\n",
            "Starting epoch: 11 | phase:val | 🙊':19:34:21\n",
            "Loss: 0.0006 |dice: 0.0000\n",
            "******** New optimal found, saving state ********\n",
            "\n",
            "Starting epoch: 12 | phase:train | 🙊':19:34:23\n",
            "Loss: 0.0006 |dice: 0.0000\n",
            "Starting epoch: 12 | phase:val | 🙊':19:34:40\n",
            "Loss: 0.0005 |dice: 0.0000\n",
            "******** New optimal found, saving state ********\n",
            "\n",
            "Starting epoch: 13 | phase:train | 🙊':19:34:42\n",
            "Loss: 0.0005 |dice: 0.0000\n",
            "Starting epoch: 13 | phase:val | 🙊':19:34:59\n",
            "Loss: 0.0005 |dice: 0.0000\n",
            "******** New optimal found, saving state ********\n",
            "\n",
            "Starting epoch: 14 | phase:train | 🙊':19:35:01\n",
            "Loss: 0.0005 |dice: 0.0000\n",
            "Starting epoch: 14 | phase:val | 🙊':19:35:17\n",
            "Loss: 0.0005 |dice: 0.0000\n",
            "******** New optimal found, saving state ********\n",
            "\n"
          ],
          "name": "stdout"
        }
      ]
    },
    {
      "cell_type": "code",
      "metadata": {
        "id": "Q5HZFWaZOjC5",
        "colab_type": "code",
        "colab": {
          "base_uri": "https://localhost:8080/",
          "height": 803,
          "referenced_widgets": [
            "92c76f3dd5164afb936d128ff3cd35ce",
            "a92d135d539742f6871f86f802cfbdfd",
            "641d111207bc4800825e4573cdf539c3",
            "fa4585c797fb42dfa1e2684b9bf49e1d",
            "ea07ef250b3c401cb02dfbfaf4dd3417",
            "740c0f70f3484e11be87dae8901cb3e5",
            "7cebcbd38aac439c9b8965fefb7ce03e",
            "d7593b003827489dab6d9d4129dd3651"
          ]
        },
        "outputId": "3952a71e-b14e-48ac-8ace-3ca292000ce3"
      },
      "source": [
        "test_dataloader=SteelDataloader(train4class_1, os.path.join(train_classes_folder, \"class_1\"), os.path.join(train_masks_folder, \"class_1\") ,mean,std,'val',1,4)\n",
        "\n",
        "ckpt_path='model_office.pth'\n",
        "\n",
        "device = torch.device(\"cuda\")\n",
        "model = smp.Unet(\"resnet18\", encoder_weights=None, classes=1, activation=None)\n",
        "model.to(device)\n",
        "model.eval()\n",
        "state = torch.load(ckpt_path, map_location=lambda storage, loc: storage)\n",
        "model.load_state_dict(state[\"state_dict\"])\n",
        "\n",
        "# start prediction\n",
        "predictions = []\n",
        "fig, (ax1,ax2)=plt.subplots(1,2,figsize=(15,15))\n",
        "fig.suptitle('predicted_mask//original_mask')\n",
        "for i, batch in enumerate(tqdm(test_dataloader)):\n",
        "    images,mask_target = batch\n",
        "    batch_preds = torch.sigmoid(model(images.to(device)))\n",
        "    batch_preds = batch_preds.detach().cpu().numpy()\n",
        "    ax1.imshow(np.squeeze(batch_preds),cmap='gray')\n",
        "    ax2.imshow(np.squeeze(mask_target),cmap='gray')\n",
        "    break"
      ],
      "execution_count": 40,
      "outputs": [
        {
          "output_type": "display_data",
          "data": {
            "application/vnd.jupyter.widget-view+json": {
              "model_id": "92c76f3dd5164afb936d128ff3cd35ce",
              "version_minor": 0,
              "version_major": 2
            },
            "text/plain": [
              "HBox(children=(IntProgress(value=0, max=180), HTML(value='')))"
            ]
          },
          "metadata": {
            "tags": []
          }
        },
        {
          "output_type": "stream",
          "text": [
            "\n"
          ],
          "name": "stdout"
        },
        {
          "output_type": "display_data",
          "data": {
            "image/png": "[encoded data removed]",
            "text/plain": [
              "<Figure size 1080x1080 with 2 Axes>"
            ]
          },
          "metadata": {
            "tags": []
          }
        }
      ]
    }
  ]
}